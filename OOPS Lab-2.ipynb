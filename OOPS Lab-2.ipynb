{
 "cells": [
  {
   "cell_type": "code",
   "execution_count": 3,
   "id": "c62ce904",
   "metadata": {},
   "outputs": [
    {
     "name": "stdout",
     "output_type": "stream",
     "text": [
      "Largest number in list = 10\n"
     ]
    }
   ],
   "source": [
    "#Write a python program to find the largest number in a list\n",
    "numbers = [10,2,4,7,5]\n",
    "\n",
    "def largest_num(numbers):\n",
    "    print(\"Largest number in list =\", max(numbers)) \n",
    "    \n",
    "largest_num(numbers)"
   ]
  },
  {
   "cell_type": "code",
   "execution_count": 10,
   "id": "ff465c83",
   "metadata": {},
   "outputs": [
    {
     "name": "stdout",
     "output_type": "stream",
     "text": [
      "area of hexagon = 64.9519052838329 square units\n"
     ]
    }
   ],
   "source": [
    "#Write a function called hexagon_area that takes the length of a side of a regular hexagon as a parameter and returns the area of hexagon\n",
    "import math\n",
    "\n",
    "def hex_area(side):\n",
    "    area = ((3*math.sqrt(3))*side*side)/2\n",
    "    print('area of hexagon =', area, 'square units')\n",
    "    \n",
    "hex_area(5)"
   ]
  },
  {
   "cell_type": "code",
   "execution_count": 11,
   "id": "9d56b454",
   "metadata": {},
   "outputs": [
    {
     "name": "stdout",
     "output_type": "stream",
     "text": [
      "The email address user@example.com is valid.\n"
     ]
    }
   ],
   "source": [
    "#Write a function called is_valid_email  that takes an email address as an argument and returns True/False depending on whether it is a valid email address.\n",
    "\n",
    "import re\n",
    "\n",
    "def is_valid_email(email):\n",
    "    # Define a regular expression pattern for a valid email address\n",
    "    pattern = r'^[a-zA-Z0-9][a-zA-Z0-9._%+-]{0,63}@[a-zA-Z0-9.-]+\\.[a-zA-Z]{2,}$'\n",
    "\n",
    "    # Check if the email matches the pattern\n",
    "    if re.match(pattern, email) and len(email) <= 256:\n",
    "        return True\n",
    "    else:\n",
    "        return False\n",
    "\n",
    "# Example usage:\n",
    "email_address = \"user@example.com\"\n",
    "if is_valid_email(email_address):\n",
    "    print(f\"The email address {email_address} is valid.\")\n",
    "else:\n",
    "    print(f\"The email address {email_address} is not valid.\")"
   ]
  },
  {
   "cell_type": "code",
   "execution_count": 12,
   "id": "4ef1e0db",
   "metadata": {},
   "outputs": [],
   "source": [
    "#Create a function called encrypt that takes some text(String) and a Shift(Integer)and\n",
    "#then encrypts the text using the Caesar Cipher algorithm, returning the encrypted text.\n",
    "\n",
    "#Create a second function to decrypt an encrypted string, using the same input\n",
    "#parameters and returning the decrypted text.\n",
    "\n",
    "def encrypt(text, shift):\n",
    "    encrypted_text = \"\"\n",
    "    for char in text:\n",
    "        if char.isalpha():\n",
    "            shifted = ord(char) + shift\n",
    "            if char.islower():\n",
    "                if shifted > ord('z'):\n",
    "                    shifted -= 26\n",
    "                encrypted_text += chr(shifted)\n",
    "            elif char.isupper():\n",
    "                if shifted > ord('Z'):\n",
    "                    shifted -= 26\n",
    "                encrypted_text += chr(shifted)\n",
    "        else:\n",
    "            encrypted_text += char\n",
    "    return encrypted_text\n",
    "\n",
    "def decrypt(encrypted_text, shift):\n",
    "    decrypted_text = \"\"\n",
    "    for char in encrypted_text:\n",
    "        if char.isalpha():\n",
    "            shifted = ord(char) - shift\n",
    "            if char.islower():\n",
    "                if shifted < ord('a'):\n",
    "                    shifted += 26\n",
    "                decrypted_text += chr(shifted)\n",
    "            elif char.isupper():\n",
    "                if shifted < ord('A'):\n",
    "                    shifted += 26\n",
    "                decrypted_text += chr(shifted)\n",
    "        else:\n",
    "            decrypted_text += char\n",
    "    return decrypted_text\n"
   ]
  },
  {
   "cell_type": "code",
   "execution_count": 13,
   "id": "c77cff43",
   "metadata": {},
   "outputs": [
    {
     "name": "stdout",
     "output_type": "stream",
     "text": [
      "Encrypted: Khoor, Zruog!\n",
      "Decrypted: Hello, World!\n"
     ]
    }
   ],
   "source": [
    "text = \"Hello, World!\"\n",
    "shift = 3\n",
    "\n",
    "encrypted_text = encrypt(text, shift)\n",
    "print(\"Encrypted:\", encrypted_text)\n",
    "\n",
    "decrypted_text = decrypt(encrypted_text, shift)\n",
    "print(\"Decrypted:\", decrypted_text)\n"
   ]
  },
  {
   "cell_type": "code",
   "execution_count": 14,
   "id": "40ea20de",
   "metadata": {},
   "outputs": [],
   "source": [
    "#Create a function called get_palindromes that is given a string and returns a list of all\n",
    "#the palindromes in the string.\n",
    "def get_palindromes(s):\n",
    "    # Function to check if a substring is a palindrome\n",
    "    def is_palindrome(sub):\n",
    "        return sub == sub[::-1]\n",
    "\n",
    "    palindromes = []\n",
    "    s = s.lower()  # Convert the string to lowercase for case-insensitive comparison\n",
    "    words = s.split()  # Split the string into words\n",
    "\n",
    "    for word in words:\n",
    "        for i in range(len(word)):\n",
    "            for j in range(i + 1, len(word) + 1):\n",
    "                substring = word[i:j]\n",
    "                if is_palindrome(substring) and len(substring) > 1:  # Check if substring is a palindrome\n",
    "                    palindromes.append(substring)\n",
    "\n",
    "    return palindromes\n"
   ]
  },
  {
   "cell_type": "code",
   "execution_count": 15,
   "id": "c0cbc8cc",
   "metadata": {},
   "outputs": [
    {
     "name": "stdout",
     "output_type": "stream",
     "text": [
      "Palindromes: ['abba', 'bb', 'racecar', 'aceca', 'cec', 'madam', 'ada', 'level', 'eve', 'll', 'anna', 'nn', 'noon', 'oo']\n"
     ]
    }
   ],
   "source": [
    "string = \"abba racecar madam level hello anna noon\"\n",
    "palindrome_list = get_palindromes(string)\n",
    "print(\"Palindromes:\", palindrome_list)\n"
   ]
  },
  {
   "cell_type": "code",
   "execution_count": null,
   "id": "b6103eab",
   "metadata": {},
   "outputs": [],
   "source": []
  }
 ],
 "metadata": {
  "kernelspec": {
   "display_name": "Python 3 (ipykernel)",
   "language": "python",
   "name": "python3"
  },
  "language_info": {
   "codemirror_mode": {
    "name": "ipython",
    "version": 3
   },
   "file_extension": ".py",
   "mimetype": "text/x-python",
   "name": "python",
   "nbconvert_exporter": "python",
   "pygments_lexer": "ipython3",
   "version": "3.9.12"
  }
 },
 "nbformat": 4,
 "nbformat_minor": 5
}
